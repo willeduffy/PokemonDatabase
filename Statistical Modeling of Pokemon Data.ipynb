{
 "cells": [
  {
   "cell_type": "code",
   "execution_count": 2,
   "metadata": {},
   "outputs": [],
   "source": [
    "import mysql.connector\n",
    "from mysql.connector import Error\n",
    "import pandas as pd\n",
    "from IPython.display import display\n",
    "import matplotlib.pyplot as plt\n",
    "from matplotlib.pyplot import figure\n",
    "import numpy as np\n",
    "import seaborn as sns\n",
    "\n",
    "pw = \"Dollardollarbillyall\"\n",
    "db = \"pokemondb\""
   ]
  },
  {
   "cell_type": "code",
   "execution_count": 3,
   "metadata": {},
   "outputs": [],
   "source": [
    "def create_db_connection(host_name, user_name, user_password, db_name):\n",
    "    connection = None\n",
    "    try:\n",
    "        connection = mysql.connector.connect(\n",
    "            host=host_name,\n",
    "            user=user_name,\n",
    "            passwd=user_password,\n",
    "            database=db_name,\n",
    "        )\n",
    "        print(\"MySQL Database connection successful\")\n",
    "    except Error as err:\n",
    "        print(f\"Error: '{err}'\")\n",
    "\n",
    "    return connection"
   ]
  },
  {
   "cell_type": "code",
   "execution_count": 4,
   "metadata": {},
   "outputs": [
    {
     "name": "stdout",
     "output_type": "stream",
     "text": [
      "MySQL Database connection successful\n"
     ]
    }
   ],
   "source": [
    "connection = create_db_connection(\"localhost\", \"root\", pw, db) # Connect to the Database"
   ]
  },
  {
   "cell_type": "code",
   "execution_count": 5,
   "metadata": {},
   "outputs": [
    {
     "data": {
      "text/html": [
       "<div>\n",
       "<style scoped>\n",
       "    .dataframe tbody tr th:only-of-type {\n",
       "        vertical-align: middle;\n",
       "    }\n",
       "\n",
       "    .dataframe tbody tr th {\n",
       "        vertical-align: top;\n",
       "    }\n",
       "\n",
       "    .dataframe thead th {\n",
       "        text-align: right;\n",
       "    }\n",
       "</style>\n",
       "<table border=\"1\" class=\"dataframe\">\n",
       "  <thead>\n",
       "    <tr style=\"text-align: right;\">\n",
       "      <th></th>\n",
       "      <th>id</th>\n",
       "      <th>pokedex_number</th>\n",
       "      <th>name</th>\n",
       "      <th>german_name</th>\n",
       "      <th>japanese_name</th>\n",
       "      <th>generation</th>\n",
       "      <th>status</th>\n",
       "      <th>species</th>\n",
       "      <th>type_number</th>\n",
       "      <th>type_1</th>\n",
       "      <th>...</th>\n",
       "      <th>against_ground</th>\n",
       "      <th>against_flying</th>\n",
       "      <th>against_psychic</th>\n",
       "      <th>against_bug</th>\n",
       "      <th>against_rock</th>\n",
       "      <th>against_ghost</th>\n",
       "      <th>against_dragon</th>\n",
       "      <th>against_dark</th>\n",
       "      <th>against_steel</th>\n",
       "      <th>against_fairy</th>\n",
       "    </tr>\n",
       "  </thead>\n",
       "  <tbody>\n",
       "    <tr>\n",
       "      <th>0</th>\n",
       "      <td>0</td>\n",
       "      <td>1</td>\n",
       "      <td>Bulbasaur</td>\n",
       "      <td>Bisasam</td>\n",
       "      <td>フシギダネ (Fushigidane)</td>\n",
       "      <td>1</td>\n",
       "      <td>Normal</td>\n",
       "      <td>Seed Pokémon</td>\n",
       "      <td>2</td>\n",
       "      <td>Grass</td>\n",
       "      <td>...</td>\n",
       "      <td>1</td>\n",
       "      <td>2</td>\n",
       "      <td>2</td>\n",
       "      <td>1</td>\n",
       "      <td>1</td>\n",
       "      <td>1</td>\n",
       "      <td>1</td>\n",
       "      <td>1</td>\n",
       "      <td>1</td>\n",
       "      <td>1</td>\n",
       "    </tr>\n",
       "    <tr>\n",
       "      <th>1</th>\n",
       "      <td>1</td>\n",
       "      <td>2</td>\n",
       "      <td>Ivysaur</td>\n",
       "      <td>Bisaknosp</td>\n",
       "      <td>フシギソウ (Fushigisou)</td>\n",
       "      <td>1</td>\n",
       "      <td>Normal</td>\n",
       "      <td>Seed Pokémon</td>\n",
       "      <td>2</td>\n",
       "      <td>Grass</td>\n",
       "      <td>...</td>\n",
       "      <td>1</td>\n",
       "      <td>2</td>\n",
       "      <td>2</td>\n",
       "      <td>1</td>\n",
       "      <td>1</td>\n",
       "      <td>1</td>\n",
       "      <td>1</td>\n",
       "      <td>1</td>\n",
       "      <td>1</td>\n",
       "      <td>1</td>\n",
       "    </tr>\n",
       "    <tr>\n",
       "      <th>2</th>\n",
       "      <td>2</td>\n",
       "      <td>3</td>\n",
       "      <td>Venusaur</td>\n",
       "      <td>Bisaflor</td>\n",
       "      <td>フシギバナ (Fushigibana)</td>\n",
       "      <td>1</td>\n",
       "      <td>Normal</td>\n",
       "      <td>Seed Pokémon</td>\n",
       "      <td>2</td>\n",
       "      <td>Grass</td>\n",
       "      <td>...</td>\n",
       "      <td>1</td>\n",
       "      <td>2</td>\n",
       "      <td>2</td>\n",
       "      <td>1</td>\n",
       "      <td>1</td>\n",
       "      <td>1</td>\n",
       "      <td>1</td>\n",
       "      <td>1</td>\n",
       "      <td>1</td>\n",
       "      <td>1</td>\n",
       "    </tr>\n",
       "    <tr>\n",
       "      <th>3</th>\n",
       "      <td>3</td>\n",
       "      <td>3</td>\n",
       "      <td>Mega Venusaur</td>\n",
       "      <td>Bisaflor</td>\n",
       "      <td>フシギバナ (Fushigibana)</td>\n",
       "      <td>1</td>\n",
       "      <td>Normal</td>\n",
       "      <td>Seed Pokémon</td>\n",
       "      <td>2</td>\n",
       "      <td>Grass</td>\n",
       "      <td>...</td>\n",
       "      <td>1</td>\n",
       "      <td>2</td>\n",
       "      <td>2</td>\n",
       "      <td>1</td>\n",
       "      <td>1</td>\n",
       "      <td>1</td>\n",
       "      <td>1</td>\n",
       "      <td>1</td>\n",
       "      <td>1</td>\n",
       "      <td>1</td>\n",
       "    </tr>\n",
       "    <tr>\n",
       "      <th>4</th>\n",
       "      <td>4</td>\n",
       "      <td>4</td>\n",
       "      <td>Charmander</td>\n",
       "      <td>Glumanda</td>\n",
       "      <td>ヒトカゲ (Hitokage)</td>\n",
       "      <td>1</td>\n",
       "      <td>Normal</td>\n",
       "      <td>Lizard Pokémon</td>\n",
       "      <td>1</td>\n",
       "      <td>Fire</td>\n",
       "      <td>...</td>\n",
       "      <td>2</td>\n",
       "      <td>1</td>\n",
       "      <td>1</td>\n",
       "      <td>1</td>\n",
       "      <td>2</td>\n",
       "      <td>1</td>\n",
       "      <td>1</td>\n",
       "      <td>1</td>\n",
       "      <td>1</td>\n",
       "      <td>1</td>\n",
       "    </tr>\n",
       "  </tbody>\n",
       "</table>\n",
       "<p>5 rows × 51 columns</p>\n",
       "</div>"
      ],
      "text/plain": [
       "   id  pokedex_number           name german_name        japanese_name  \\\n",
       "0   0               1      Bulbasaur     Bisasam  フシギダネ (Fushigidane)   \n",
       "1   1               2        Ivysaur   Bisaknosp   フシギソウ (Fushigisou)   \n",
       "2   2               3       Venusaur    Bisaflor  フシギバナ (Fushigibana)   \n",
       "3   3               3  Mega Venusaur    Bisaflor  フシギバナ (Fushigibana)   \n",
       "4   4               4     Charmander    Glumanda      ヒトカゲ (Hitokage)   \n",
       "\n",
       "   generation  status         species  type_number type_1  ... against_ground  \\\n",
       "0           1  Normal    Seed Pokémon            2  Grass  ...              1   \n",
       "1           1  Normal    Seed Pokémon            2  Grass  ...              1   \n",
       "2           1  Normal    Seed Pokémon            2  Grass  ...              1   \n",
       "3           1  Normal    Seed Pokémon            2  Grass  ...              1   \n",
       "4           1  Normal  Lizard Pokémon            1   Fire  ...              2   \n",
       "\n",
       "   against_flying  against_psychic  against_bug against_rock against_ghost  \\\n",
       "0               2                2            1            1             1   \n",
       "1               2                2            1            1             1   \n",
       "2               2                2            1            1             1   \n",
       "3               2                2            1            1             1   \n",
       "4               1                1            1            2             1   \n",
       "\n",
       "  against_dragon  against_dark  against_steel  against_fairy  \n",
       "0              1             1              1              1  \n",
       "1              1             1              1              1  \n",
       "2              1             1              1              1  \n",
       "3              1             1              1              1  \n",
       "4              1             1              1              1  \n",
       "\n",
       "[5 rows x 51 columns]"
      ]
     },
     "execution_count": 5,
     "metadata": {},
     "output_type": "execute_result"
    }
   ],
   "source": [
    "allpokemondf = pd.read_sql(\"SELECT * FROM pokemon;\", connection)\n",
    "allpokemondf.head()"
   ]
  },
  {
   "cell_type": "markdown",
   "metadata": {},
   "source": [
    "I'll first use just base_experience as an indicator for base stat total. How are they correlated?"
   ]
  },
  {
   "cell_type": "code",
   "execution_count": 23,
   "metadata": {},
   "outputs": [
    {
     "data": {
      "text/plain": [
       "120"
      ]
     },
     "execution_count": 23,
     "metadata": {},
     "output_type": "execute_result"
    }
   ],
   "source": [
    "allpokemondf['base_experience'].isnull().sum()"
   ]
  },
  {
   "cell_type": "code",
   "execution_count": 28,
   "metadata": {
    "scrolled": true
   },
   "outputs": [
    {
     "name": "stdout",
     "output_type": "stream",
     "text": [
      "0       False\n",
      "1       False\n",
      "2       False\n",
      "3       False\n",
      "4       False\n",
      "        ...  \n",
      "1040     True\n",
      "1041     True\n",
      "1042     True\n",
      "1043     True\n",
      "1044     True\n",
      "Name: base_experience, Length: 1045, dtype: bool\n"
     ]
    }
   ],
   "source": [
    "check_for_nan = allpokemondf['base_experience'].isnull()\n",
    "print (check_for_nan)"
   ]
  },
  {
   "cell_type": "markdown",
   "metadata": {},
   "source": [
    "I wasn't able to scrape base experience information for generation 8 Pokemon into the database, so I will exclude those Pokemon who are missing base_experience info."
   ]
  },
  {
   "cell_type": "code",
   "execution_count": 24,
   "metadata": {},
   "outputs": [],
   "source": [
    "df_without_nan = allpokemondf.dropna(subset = [\"base_experience\"], axis=0)"
   ]
  },
  {
   "cell_type": "code",
   "execution_count": 40,
   "metadata": {},
   "outputs": [
    {
     "data": {
      "text/plain": [
       "False"
      ]
     },
     "execution_count": 40,
     "metadata": {},
     "output_type": "execute_result"
    }
   ],
   "source": [
    "df_without_nan[\"base_experience\"].isnull().values.any()"
   ]
  },
  {
   "cell_type": "code",
   "execution_count": 134,
   "metadata": {},
   "outputs": [],
   "source": [
    "from sklearn import linear_model\n",
    "lm = linear_model.LinearRegression()"
   ]
  },
  {
   "cell_type": "code",
   "execution_count": 105,
   "metadata": {},
   "outputs": [],
   "source": [
    "indicator = df_without_nan[[\"base_experience\"]]\n",
    "target = df_without_nan[\"total_points\"]"
   ]
  },
  {
   "cell_type": "code",
   "execution_count": 106,
   "metadata": {},
   "outputs": [
    {
     "data": {
      "text/plain": [
       "LinearRegression()"
      ]
     },
     "execution_count": 106,
     "metadata": {},
     "output_type": "execute_result"
    }
   ],
   "source": [
    "lm.fit(indicator, target)"
   ]
  },
  {
   "cell_type": "code",
   "execution_count": 46,
   "metadata": {},
   "outputs": [],
   "source": [
    "Yhat = lm.predict(indicator)"
   ]
  },
  {
   "cell_type": "code",
   "execution_count": 57,
   "metadata": {},
   "outputs": [],
   "source": [
    "intercept1 = lm.intercept_\n",
    "slope1 = lm.coef_"
   ]
  },
  {
   "cell_type": "code",
   "execution_count": 60,
   "metadata": {},
   "outputs": [
    {
     "name": "stdout",
     "output_type": "stream",
     "text": [
      "The relationship between base experience and base stat total is given by: \n",
      " base stat total = [1.40722357]*base experience + 221.4807507455265\n"
     ]
    }
   ],
   "source": [
    "print(\"The relationship between base experience and base stat total is given by: \\n base stat total = \"+str(slope1)+\"*base experience + \" + str(intercept1))"
   ]
  },
  {
   "cell_type": "code",
   "execution_count": 63,
   "metadata": {
    "scrolled": true
   },
   "outputs": [
    {
     "data": {
      "image/png": "[encoded data removed]",
      "text/plain": [
       "<Figure size 432x288 with 1 Axes>"
      ]
     },
     "metadata": {
      "needs_background": "light"
     },
     "output_type": "display_data"
    }
   ],
   "source": [
    "sns.regplot(x=\"base_experience\", y=\"total_points\", data=df_without_nan);"
   ]
  },
  {
   "cell_type": "markdown",
   "metadata": {},
   "source": [
    "Let's now get the coefficient of determation, or R^2, for this regression."
   ]
  },
  {
   "cell_type": "code",
   "execution_count": 107,
   "metadata": {},
   "outputs": [
    {
     "name": "stdout",
     "output_type": "stream",
     "text": [
      "The R^2 value for this regression is 0.8642116101614545\n"
     ]
    }
   ],
   "source": [
    "print(\"The R^2 value for this regression is \"+ str(lm.score(indicator, target)))"
   ]
  },
  {
   "cell_type": "markdown",
   "metadata": {},
   "source": [
    "The maximum value for R^2 is 1, so this is a pretty good fit. I can also check how well the regression fits by looking at the residuals plot below."
   ]
  },
  {
   "cell_type": "code",
   "execution_count": 91,
   "metadata": {},
   "outputs": [
    {
     "name": "stderr",
     "output_type": "stream",
     "text": [
      "D:\\Anaconda\\lib\\site-packages\\seaborn\\_decorators.py:36: FutureWarning: Pass the following variables as keyword args: x, y. From version 0.12, the only valid positional argument will be `data`, and passing other arguments without an explicit keyword will result in an error or misinterpretation.\n",
      "  warnings.warn(\n"
     ]
    },
    {
     "data": {
      "text/plain": [
       "<AxesSubplot:xlabel='base_experience', ylabel='total_points'>"
      ]
     },
     "execution_count": 91,
     "metadata": {},
     "output_type": "execute_result"
    },
    {
     "data": {
      "image/png": "[encoded data removed]",
      "text/plain": [
       "<Figure size 432x288 with 1 Axes>"
      ]
     },
     "metadata": {
      "needs_background": "light"
     },
     "output_type": "display_data"
    }
   ],
   "source": [
    "sns.residplot(df_without_nan[\"base_experience\"], df_without_nan[\"total_points\"])"
   ]
  },
  {
   "cell_type": "markdown",
   "metadata": {},
   "source": [
    "To look at some other possible predictor variables, I will check the correlation of each attribute of each Pokemon with its base stat total (BST, listed as \"total_points\" in the dataframe). The closer to 1 or -1, the stronger the correlation."
   ]
  },
  {
   "cell_type": "code",
   "execution_count": 78,
   "metadata": {},
   "outputs": [
    {
     "data": {
      "text/html": [
       "<style  type=\"text/css\" >\n",
       "#T_66c92_row0_col0,#T_66c92_row1_col0{\n",
       "            background-color:  #6aaed6;\n",
       "            color:  #000000;\n",
       "        }#T_66c92_row2_col0{\n",
       "            background-color:  #75b4d8;\n",
       "            color:  #000000;\n",
       "        }#T_66c92_row3_col0{\n",
       "            background-color:  #5ca4d0;\n",
       "            color:  #000000;\n",
       "        }#T_66c92_row4_col0{\n",
       "            background-color:  #3e8ec4;\n",
       "            color:  #000000;\n",
       "        }#T_66c92_row5_col0{\n",
       "            background-color:  #2f7fbc;\n",
       "            color:  #000000;\n",
       "        }#T_66c92_row6_col0{\n",
       "            background-color:  #d6e5f4;\n",
       "            color:  #000000;\n",
       "        }#T_66c92_row7_col0{\n",
       "            background-color:  #08306b;\n",
       "            color:  #f1f1f1;\n",
       "        }#T_66c92_row8_col0{\n",
       "            background-color:  #1764ab;\n",
       "            color:  #f1f1f1;\n",
       "        }#T_66c92_row9_col0,#T_66c92_row11_col0{\n",
       "            background-color:  #0e58a2;\n",
       "            color:  #f1f1f1;\n",
       "        }#T_66c92_row10_col0{\n",
       "            background-color:  #1967ad;\n",
       "            color:  #f1f1f1;\n",
       "        }#T_66c92_row12_col0{\n",
       "            background-color:  #0f5aa3;\n",
       "            color:  #f1f1f1;\n",
       "        }#T_66c92_row13_col0{\n",
       "            background-color:  #2171b5;\n",
       "            color:  #f1f1f1;\n",
       "        }#T_66c92_row14_col0{\n",
       "            background-color:  #f7fbff;\n",
       "            color:  #000000;\n",
       "        }#T_66c92_row15_col0{\n",
       "            background-color:  #caddf0;\n",
       "            color:  #000000;\n",
       "        }#T_66c92_row16_col0{\n",
       "            background-color:  #083a7a;\n",
       "            color:  #f1f1f1;\n",
       "        }#T_66c92_row17_col0,#T_66c92_row27_col0{\n",
       "            background-color:  #a1cbe2;\n",
       "            color:  #000000;\n",
       "        }#T_66c92_row18_col0{\n",
       "            background-color:  #6fb0d7;\n",
       "            color:  #000000;\n",
       "        }#T_66c92_row19_col0{\n",
       "            background-color:  #2474b7;\n",
       "            color:  #f1f1f1;\n",
       "        }#T_66c92_row20_col0,#T_66c92_row23_col0,#T_66c92_row32_col0{\n",
       "            background-color:  #94c4df;\n",
       "            color:  #000000;\n",
       "        }#T_66c92_row21_col0{\n",
       "            background-color:  #9ac8e0;\n",
       "            color:  #000000;\n",
       "        }#T_66c92_row22_col0,#T_66c92_row31_col0{\n",
       "            background-color:  #8dc1dd;\n",
       "            color:  #000000;\n",
       "        }#T_66c92_row24_col0{\n",
       "            background-color:  #99c7e0;\n",
       "            color:  #000000;\n",
       "        }#T_66c92_row25_col0{\n",
       "            background-color:  #8cc0dd;\n",
       "            color:  #000000;\n",
       "        }#T_66c92_row26_col0{\n",
       "            background-color:  #89bedc;\n",
       "            color:  #000000;\n",
       "        }#T_66c92_row28_col0{\n",
       "            background-color:  #87bddc;\n",
       "            color:  #000000;\n",
       "        }#T_66c92_row29_col0{\n",
       "            background-color:  #9dcae1;\n",
       "            color:  #000000;\n",
       "        }#T_66c92_row30_col0{\n",
       "            background-color:  #92c4de;\n",
       "            color:  #000000;\n",
       "        }#T_66c92_row33_col0,#T_66c92_row34_col0{\n",
       "            background-color:  #66abd4;\n",
       "            color:  #000000;\n",
       "        }#T_66c92_row35_col0{\n",
       "            background-color:  #6dafd7;\n",
       "            color:  #000000;\n",
       "        }#T_66c92_row36_col0{\n",
       "            background-color:  #85bcdc;\n",
       "            color:  #000000;\n",
       "        }#T_66c92_row37_col0{\n",
       "            background-color:  #69add5;\n",
       "            color:  #000000;\n",
       "        }</style><table id=\"T_66c92_\" ><thead>    <tr>        <th class=\"blank level0\" ></th>        <th class=\"col_heading level0 col0\" >total_points</th>    </tr></thead><tbody>\n",
       "                <tr>\n",
       "                        <th id=\"T_66c92_level0_row0\" class=\"row_heading level0 row0\" >id</th>\n",
       "                        <td id=\"T_66c92_row0_col0\" class=\"data row0 col0\" >0.137483</td>\n",
       "            </tr>\n",
       "            <tr>\n",
       "                        <th id=\"T_66c92_level0_row1\" class=\"row_heading level0 row1\" >pokedex_number</th>\n",
       "                        <td id=\"T_66c92_row1_col0\" class=\"data row1 col0\" >0.136512</td>\n",
       "            </tr>\n",
       "            <tr>\n",
       "                        <th id=\"T_66c92_level0_row2\" class=\"row_heading level0 row2\" >generation</th>\n",
       "                        <td id=\"T_66c92_row2_col0\" class=\"data row2 col0\" >0.091050</td>\n",
       "            </tr>\n",
       "            <tr>\n",
       "                        <th id=\"T_66c92_level0_row3\" class=\"row_heading level0 row3\" >type_number</th>\n",
       "                        <td id=\"T_66c92_row3_col0\" class=\"data row3 col0\" >0.212363</td>\n",
       "            </tr>\n",
       "            <tr>\n",
       "                        <th id=\"T_66c92_level0_row4\" class=\"row_heading level0 row4\" >height_m</th>\n",
       "                        <td id=\"T_66c92_row4_col0\" class=\"data row4 col0\" >0.376983</td>\n",
       "            </tr>\n",
       "            <tr>\n",
       "                        <th id=\"T_66c92_level0_row5\" class=\"row_heading level0 row5\" >weight_kg</th>\n",
       "                        <td id=\"T_66c92_row5_col0\" class=\"data row5 col0\" >0.477183</td>\n",
       "            </tr>\n",
       "            <tr>\n",
       "                        <th id=\"T_66c92_level0_row6\" class=\"row_heading level0 row6\" >abilities_number</th>\n",
       "                        <td id=\"T_66c92_row6_col0\" class=\"data row6 col0\" >-0.432820</td>\n",
       "            </tr>\n",
       "            <tr>\n",
       "                        <th id=\"T_66c92_level0_row7\" class=\"row_heading level0 row7\" >total_points</th>\n",
       "                        <td id=\"T_66c92_row7_col0\" class=\"data row7 col0\" >1.000000</td>\n",
       "            </tr>\n",
       "            <tr>\n",
       "                        <th id=\"T_66c92_level0_row8\" class=\"row_heading level0 row8\" >hp</th>\n",
       "                        <td id=\"T_66c92_row8_col0\" class=\"data row8 col0\" >0.650568</td>\n",
       "            </tr>\n",
       "            <tr>\n",
       "                        <th id=\"T_66c92_level0_row9\" class=\"row_heading level0 row9\" >attack</th>\n",
       "                        <td id=\"T_66c92_row9_col0\" class=\"data row9 col0\" >0.733028</td>\n",
       "            </tr>\n",
       "            <tr>\n",
       "                        <th id=\"T_66c92_level0_row10\" class=\"row_heading level0 row10\" >defense</th>\n",
       "                        <td id=\"T_66c92_row10_col0\" class=\"data row10 col0\" >0.629656</td>\n",
       "            </tr>\n",
       "            <tr>\n",
       "                        <th id=\"T_66c92_level0_row11\" class=\"row_heading level0 row11\" >sp_attack</th>\n",
       "                        <td id=\"T_66c92_row11_col0\" class=\"data row11 col0\" >0.732795</td>\n",
       "            </tr>\n",
       "            <tr>\n",
       "                        <th id=\"T_66c92_level0_row12\" class=\"row_heading level0 row12\" >sp_defense</th>\n",
       "                        <td id=\"T_66c92_row12_col0\" class=\"data row12 col0\" >0.719940</td>\n",
       "            </tr>\n",
       "            <tr>\n",
       "                        <th id=\"T_66c92_level0_row13\" class=\"row_heading level0 row13\" >speed</th>\n",
       "                        <td id=\"T_66c92_row13_col0\" class=\"data row13 col0\" >0.561368</td>\n",
       "            </tr>\n",
       "            <tr>\n",
       "                        <th id=\"T_66c92_level0_row14\" class=\"row_heading level0 row14\" >catch_rate</th>\n",
       "                        <td id=\"T_66c92_row14_col0\" class=\"data row14 col0\" >-0.727788</td>\n",
       "            </tr>\n",
       "            <tr>\n",
       "                        <th id=\"T_66c92_level0_row15\" class=\"row_heading level0 row15\" >base_friendship</th>\n",
       "                        <td id=\"T_66c92_row15_col0\" class=\"data row15 col0\" >-0.327835</td>\n",
       "            </tr>\n",
       "            <tr>\n",
       "                        <th id=\"T_66c92_level0_row16\" class=\"row_heading level0 row16\" >base_experience</th>\n",
       "                        <td id=\"T_66c92_row16_col0\" class=\"data row16 col0\" >0.929630</td>\n",
       "            </tr>\n",
       "            <tr>\n",
       "                        <th id=\"T_66c92_level0_row17\" class=\"row_heading level0 row17\" >egg_type_number</th>\n",
       "                        <td id=\"T_66c92_row17_col0\" class=\"data row17 col0\" >-0.094801</td>\n",
       "            </tr>\n",
       "            <tr>\n",
       "                        <th id=\"T_66c92_level0_row18\" class=\"row_heading level0 row18\" >percentage_male</th>\n",
       "                        <td id=\"T_66c92_row18_col0\" class=\"data row18 col0\" >0.116031</td>\n",
       "            </tr>\n",
       "            <tr>\n",
       "                        <th id=\"T_66c92_level0_row19\" class=\"row_heading level0 row19\" >egg_cycles</th>\n",
       "                        <td id=\"T_66c92_row19_col0\" class=\"data row19 col0\" >0.542124</td>\n",
       "            </tr>\n",
       "            <tr>\n",
       "                        <th id=\"T_66c92_level0_row20\" class=\"row_heading level0 row20\" >against_normal</th>\n",
       "                        <td id=\"T_66c92_row20_col0\" class=\"data row20 col0\" >-0.036199</td>\n",
       "            </tr>\n",
       "            <tr>\n",
       "                        <th id=\"T_66c92_level0_row21\" class=\"row_heading level0 row21\" >against_fire</th>\n",
       "                        <td id=\"T_66c92_row21_col0\" class=\"data row21 col0\" >-0.062507</td>\n",
       "            </tr>\n",
       "            <tr>\n",
       "                        <th id=\"T_66c92_level0_row22\" class=\"row_heading level0 row22\" >against_water</th>\n",
       "                        <td id=\"T_66c92_row22_col0\" class=\"data row22 col0\" >-0.006566</td>\n",
       "            </tr>\n",
       "            <tr>\n",
       "                        <th id=\"T_66c92_level0_row23\" class=\"row_heading level0 row23\" >against_electric</th>\n",
       "                        <td id=\"T_66c92_row23_col0\" class=\"data row23 col0\" >-0.036058</td>\n",
       "            </tr>\n",
       "            <tr>\n",
       "                        <th id=\"T_66c92_level0_row24\" class=\"row_heading level0 row24\" >against_grass</th>\n",
       "                        <td id=\"T_66c92_row24_col0\" class=\"data row24 col0\" >-0.056067</td>\n",
       "            </tr>\n",
       "            <tr>\n",
       "                        <th id=\"T_66c92_level0_row25\" class=\"row_heading level0 row25\" >against_ice</th>\n",
       "                        <td id=\"T_66c92_row25_col0\" class=\"data row25 col0\" >-0.001318</td>\n",
       "            </tr>\n",
       "            <tr>\n",
       "                        <th id=\"T_66c92_level0_row26\" class=\"row_heading level0 row26\" >against_fight</th>\n",
       "                        <td id=\"T_66c92_row26_col0\" class=\"data row26 col0\" >0.014099</td>\n",
       "            </tr>\n",
       "            <tr>\n",
       "                        <th id=\"T_66c92_level0_row27\" class=\"row_heading level0 row27\" >against_poison</th>\n",
       "                        <td id=\"T_66c92_row27_col0\" class=\"data row27 col0\" >-0.098725</td>\n",
       "            </tr>\n",
       "            <tr>\n",
       "                        <th id=\"T_66c92_level0_row28\" class=\"row_heading level0 row28\" >against_ground</th>\n",
       "                        <td id=\"T_66c92_row28_col0\" class=\"data row28 col0\" >0.020758</td>\n",
       "            </tr>\n",
       "            <tr>\n",
       "                        <th id=\"T_66c92_level0_row29\" class=\"row_heading level0 row29\" >against_flying</th>\n",
       "                        <td id=\"T_66c92_row29_col0\" class=\"data row29 col0\" >-0.079492</td>\n",
       "            </tr>\n",
       "            <tr>\n",
       "                        <th id=\"T_66c92_level0_row30\" class=\"row_heading level0 row30\" >against_psychic</th>\n",
       "                        <td id=\"T_66c92_row30_col0\" class=\"data row30 col0\" >-0.028538</td>\n",
       "            </tr>\n",
       "            <tr>\n",
       "                        <th id=\"T_66c92_level0_row31\" class=\"row_heading level0 row31\" >against_bug</th>\n",
       "                        <td id=\"T_66c92_row31_col0\" class=\"data row31 col0\" >-0.011518</td>\n",
       "            </tr>\n",
       "            <tr>\n",
       "                        <th id=\"T_66c92_level0_row32\" class=\"row_heading level0 row32\" >against_rock</th>\n",
       "                        <td id=\"T_66c92_row32_col0\" class=\"data row32 col0\" >-0.036226</td>\n",
       "            </tr>\n",
       "            <tr>\n",
       "                        <th id=\"T_66c92_level0_row33\" class=\"row_heading level0 row33\" >against_ghost</th>\n",
       "                        <td id=\"T_66c92_row33_col0\" class=\"data row33 col0\" >0.157169</td>\n",
       "            </tr>\n",
       "            <tr>\n",
       "                        <th id=\"T_66c92_level0_row34\" class=\"row_heading level0 row34\" >against_dragon</th>\n",
       "                        <td id=\"T_66c92_row34_col0\" class=\"data row34 col0\" >0.157349</td>\n",
       "            </tr>\n",
       "            <tr>\n",
       "                        <th id=\"T_66c92_level0_row35\" class=\"row_heading level0 row35\" >against_dark</th>\n",
       "                        <td id=\"T_66c92_row35_col0\" class=\"data row35 col0\" >0.126000</td>\n",
       "            </tr>\n",
       "            <tr>\n",
       "                        <th id=\"T_66c92_level0_row36\" class=\"row_heading level0 row36\" >against_steel</th>\n",
       "                        <td id=\"T_66c92_row36_col0\" class=\"data row36 col0\" >0.025918</td>\n",
       "            </tr>\n",
       "            <tr>\n",
       "                        <th id=\"T_66c92_level0_row37\" class=\"row_heading level0 row37\" >against_fairy</th>\n",
       "                        <td id=\"T_66c92_row37_col0\" class=\"data row37 col0\" >0.148969</td>\n",
       "            </tr>\n",
       "    </tbody></table>"
      ],
      "text/plain": [
       "<pandas.io.formats.style.Styler at 0x1bf4bf61220>"
      ]
     },
     "execution_count": 78,
     "metadata": {},
     "output_type": "execute_result"
    }
   ],
   "source": [
    "pokemon_correlation = allpokemondf.corr()\n",
    "pokemon_correlation[[\"total_points\"]].style.background_gradient(cmap='Blues')"
   ]
  },
  {
   "cell_type": "markdown",
   "metadata": {},
   "source": [
    "Based on this correlation list, all of the stats (hp, attack, defense, etc.) show strong positive correlation with base stat total (BST) and catch rate shows strong negative correlation. I will use thse indicator varaibles in my next model. "
   ]
  },
  {
   "cell_type": "markdown",
   "metadata": {},
   "source": [
    "Remake the linear regression object to reuse variable name"
   ]
  },
  {
   "cell_type": "code",
   "execution_count": 136,
   "metadata": {},
   "outputs": [],
   "source": [
    "lm = linear_model.LinearRegression()"
   ]
  },
  {
   "cell_type": "code",
   "execution_count": 137,
   "metadata": {},
   "outputs": [],
   "source": [
    "df_without_nan = allpokemondf.dropna(subset = [\"base_experience\", \"catch_rate\"], axis=0)"
   ]
  },
  {
   "cell_type": "code",
   "execution_count": 138,
   "metadata": {},
   "outputs": [],
   "source": [
    "Z = df_without_nan[[\"base_experience\", \"catch_rate\"]]"
   ]
  },
  {
   "cell_type": "code",
   "execution_count": 139,
   "metadata": {},
   "outputs": [],
   "source": [
    "lm.fit(Z, df_without_nan[\"total_points\"])\n",
    "intercept2 = lm.intercept_\n",
    "#this is an array of slopes, so in this case there are two slopes\n",
    "slope2 = lm.coef_"
   ]
  },
  {
   "cell_type": "code",
   "execution_count": 140,
   "metadata": {},
   "outputs": [
    {
     "name": "stdout",
     "output_type": "stream",
     "text": [
      "The relationship between BST, base experience, and catch rate is given by: \n",
      " base stat total = 1.2283218886369163*base experience + -0.2740607619353496*catch rate + 274.5444366476087\n"
     ]
    }
   ],
   "source": [
    "print(\"The relationship between BST, base experience, and catch rate is given by: \\n base stat total = \"+str(slope2[0])+\"*base experience + \" + str(slope2[1])+ \"*catch rate + \"+ str(intercept2))"
   ]
  },
  {
   "cell_type": "markdown",
   "metadata": {},
   "source": [
    "Besides R^2, another way to check how well a regression predicts the data is by looking at the Mean Squared Error. I can do that with the following."
   ]
  },
  {
   "cell_type": "code",
   "execution_count": 141,
   "metadata": {},
   "outputs": [],
   "source": [
    "from sklearn.metrics import mean_squared_error"
   ]
  },
  {
   "cell_type": "code",
   "execution_count": 142,
   "metadata": {},
   "outputs": [],
   "source": [
    "MSE = mean_squared_error(df_without_nan[\"total_points\"], lm.predict(Z))"
   ]
  },
  {
   "cell_type": "code",
   "execution_count": 143,
   "metadata": {},
   "outputs": [
    {
     "name": "stdout",
     "output_type": "stream",
     "text": [
      "The Mean Squared Error (MSE) for this linear regression is 1729.6765058006165\n"
     ]
    }
   ],
   "source": [
    "print(\"The Mean Squared Error (MSE) for this linear regression is \"+str(MSE))"
   ]
  },
  {
   "cell_type": "markdown",
   "metadata": {},
   "source": [
    "## Distribution plot"
   ]
  },
  {
   "cell_type": "markdown",
   "metadata": {},
   "source": [
    "One final way to visualize how well this model fits the data is to look at a distribution plot that compares the actual data to that predicted by the model. The first step is to use the model to guess what each value of BST should be for each Pokemon. I do that wih the following line of code:"
   ]
  },
  {
   "cell_type": "code",
   "execution_count": 144,
   "metadata": {},
   "outputs": [],
   "source": [
    "Y_hat = lm.predict(Z)"
   ]
  },
  {
   "cell_type": "markdown",
   "metadata": {},
   "source": [
    "Where Y hat is the mathematical convention for calculated value using a model like this. Now it's time to plot the actual values compared to the calculated ones."
   ]
  },
  {
   "cell_type": "code",
   "execution_count": 147,
   "metadata": {},
   "outputs": [
    {
     "name": "stderr",
     "output_type": "stream",
     "text": [
      "D:\\Anaconda\\lib\\site-packages\\seaborn\\distributions.py:2557: FutureWarning: `distplot` is a deprecated function and will be removed in a future version. Please adapt your code to use either `displot` (a figure-level function with similar flexibility) or `kdeplot` (an axes-level function for kernel density plots).\n",
      "  warnings.warn(msg, FutureWarning)\n",
      "D:\\Anaconda\\lib\\site-packages\\seaborn\\distributions.py:2557: FutureWarning: `distplot` is a deprecated function and will be removed in a future version. Please adapt your code to use either `displot` (a figure-level function with similar flexibility) or `kdeplot` (an axes-level function for kernel density plots).\n",
      "  warnings.warn(msg, FutureWarning)\n"
     ]
    },
    {
     "data": {
      "image/png": "[encoded data removed]",
      "text/plain": [
       "<Figure size 864x720 with 1 Axes>"
      ]
     },
     "metadata": {
      "needs_background": "light"
     },
     "output_type": "display_data"
    }
   ],
   "source": [
    "width = 12\n",
    "height = 10\n",
    "\n",
    "plt.figure(figsize=(width, height))\n",
    "\n",
    "\n",
    "ax1 = sns.distplot(df_without_nan['total_points'], hist=False, color=\"r\", label=\"Actual Value\")\n",
    "sns.distplot(Y_hat, hist=False, color=\"b\", label=\"Fitted Values\" , ax=ax1)\n",
    "\n",
    "\n",
    "plt.title('Actual vs Fitted Values for Base Stat Total')\n",
    "plt.xlabel('Base Stat Total')\n",
    "plt.ylabel('Proportion of Pokemon')\n",
    "\n",
    "plt.show()\n",
    "plt.close()"
   ]
  },
  {
   "cell_type": "markdown",
   "metadata": {},
   "source": [
    "Visually, this looks pretty good! The more overlap between the model and the actual values, the more accurate it is. If a linear regression isn't cutting it, I could instead turn to polynomial fits as I will describe below."
   ]
  },
  {
   "cell_type": "markdown",
   "metadata": {},
   "source": [
    "## Below I will fit polynomial, rather than linear, functions to fit base_experience to BST and catch_rate to BST respectively"
   ]
  },
  {
   "cell_type": "code",
   "execution_count": 108,
   "metadata": {},
   "outputs": [],
   "source": [
    "def PlotPolly(model, independent_variable, dependent_variabble, Name):\n",
    "    x_new = np.linspace(15, 55, 100)\n",
    "    y_new = model(x_new)\n",
    "\n",
    "    plt.plot(independent_variable, dependent_variabble, '.', x_new, y_new, '-')\n",
    "    plt.title('Polynomial Fit with Matplotlib for Base Stat Total')\n",
    "    ax = plt.gca()\n",
    "    ax.set_facecolor((0.898, 0.898, 0.898))\n",
    "    fig = plt.gcf()\n",
    "    plt.xlabel(Name)\n",
    "    plt.ylabel('Base Stat Total')\n",
    "\n",
    "    plt.show()\n",
    "    plt.close()"
   ]
  },
  {
   "cell_type": "code",
   "execution_count": 111,
   "metadata": {},
   "outputs": [],
   "source": [
    "x = df_without_nan['base_experience']\n",
    "y = df_without_nan['total_points']"
   ]
  },
  {
   "cell_type": "code",
   "execution_count": 112,
   "metadata": {},
   "outputs": [
    {
     "name": "stdout",
     "output_type": "stream",
     "text": [
      "            3             2\n",
      "-3.707e-06 x + 0.0004219 x + 1.673 x + 193.2\n"
     ]
    }
   ],
   "source": [
    "# Here we use a polynomial of the 3rd order (cubic) \n",
    "f = np.polyfit(x, y, 3)\n",
    "p = np.poly1d(f)\n",
    "print(p)"
   ]
  },
  {
   "cell_type": "code",
   "execution_count": 113,
   "metadata": {},
   "outputs": [
    {
     "data": {
      "image/png": "[encoded data removed]",
      "text/plain": [
       "<Figure size 432x288 with 1 Axes>"
      ]
     },
     "metadata": {
      "needs_background": "light"
     },
     "output_type": "display_data"
    }
   ],
   "source": [
    "PlotPolly(p, x, y, 'Base_experience')"
   ]
  },
  {
   "cell_type": "code",
   "execution_count": 126,
   "metadata": {},
   "outputs": [],
   "source": [
    "x1 = df_without_nan['catch_rate']\n",
    "y1 = df_without_nan['total_points']"
   ]
  },
  {
   "cell_type": "code",
   "execution_count": 129,
   "metadata": {},
   "outputs": [
    {
     "name": "stdout",
     "output_type": "stream",
     "text": [
      "           11             10             9             8             7\n",
      "1.573e-20 x  - 1.549e-17 x  + 6.074e-15 x - 1.261e-12 x + 1.861e-10 x\n",
      "              6             5             4           3         2\n",
      " - 3.215e-08 x + 5.715e-06 x - 0.0006597 x + 0.04113 x - 1.199 x + 9.286 x + 602.8\n"
     ]
    }
   ],
   "source": [
    "# Here we use a polynomial of the 11th order \n",
    "f = np.polyfit(x1, y1, 11)\n",
    "p = np.poly1d(f)\n",
    "print(p)"
   ]
  },
  {
   "cell_type": "code",
   "execution_count": 130,
   "metadata": {},
   "outputs": [
    {
     "data": {
      "image/png": "[encoded data removed]",
      "text/plain": [
       "<Figure size 432x288 with 1 Axes>"
      ]
     },
     "metadata": {
      "needs_background": "light"
     },
     "output_type": "display_data"
    }
   ],
   "source": [
    "PlotPolly(p, x1, y1, 'Catch_rate')"
   ]
  },
  {
   "cell_type": "code",
   "execution_count": null,
   "metadata": {},
   "outputs": [],
   "source": []
  },
  {
   "cell_type": "code",
   "execution_count": null,
   "metadata": {},
   "outputs": [],
   "source": []
  }
 ],
 "metadata": {
  "kernelspec": {
   "display_name": "Python 3",
   "language": "python",
   "name": "python3"
  },
  "language_info": {
   "codemirror_mode": {
    "name": "ipython",
    "version": 3
   },
   "file_extension": ".py",
   "mimetype": "text/x-python",
   "name": "python",
   "nbconvert_exporter": "python",
   "pygments_lexer": "ipython3",
   "version": "3.8.8"
  }
 },
 "nbformat": 4,
 "nbformat_minor": 2
}
